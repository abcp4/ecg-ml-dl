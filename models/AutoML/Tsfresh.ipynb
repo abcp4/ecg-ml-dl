{
 "cells": [
  {
   "cell_type": "code",
   "execution_count": 1,
   "metadata": {},
   "outputs": [],
   "source": [
    "import sys, os"
   ]
  },
  {
   "cell_type": "code",
   "execution_count": 2,
   "metadata": {},
   "outputs": [],
   "source": [
    "from tqdm.notebook import tqdm"
   ]
  },
  {
   "cell_type": "code",
   "execution_count": 3,
   "metadata": {},
   "outputs": [],
   "source": [
    "from tsfresh import extract_features, extract_relevant_features, select_features\n",
    "from tsfresh.utilities.dataframe_functions import impute\n",
    "from tsfresh.feature_extraction import ComprehensiveFCParameters"
   ]
  },
  {
   "cell_type": "code",
   "execution_count": 4,
   "metadata": {},
   "outputs": [],
   "source": [
    "from sklearn.tree import DecisionTreeClassifier\n",
    "from sklearn.ensemble import RandomForestClassifier\n",
    "from sklearn.model_selection import train_test_split\n",
    "from sklearn.metrics import classification_report"
   ]
  },
  {
   "cell_type": "code",
   "execution_count": 5,
   "metadata": {},
   "outputs": [],
   "source": [
    "import sys, os\n",
    "import numpy as np\n",
    "import pandas as pd\n",
    "import pickle"
   ]
  },
  {
   "cell_type": "code",
   "execution_count": 6,
   "metadata": {},
   "outputs": [],
   "source": [
    "sys.path.append(os.path.abspath('../../'))\n",
    "from utils import utils\n",
    "from utils.utils import evaluate_experiment\n",
    "sys.path.append(os.path.abspath('../'))\n",
    "from timeseries_utils import *"
   ]
  },
  {
   "cell_type": "code",
   "execution_count": 7,
   "metadata": {},
   "outputs": [],
   "source": [
    "from sklearn.model_selection import train_test_split"
   ]
  },
  {
   "cell_type": "code",
   "execution_count": 8,
   "metadata": {},
   "outputs": [],
   "source": [
    "path_to_data='../../../'"
   ]
  },
  {
   "cell_type": "code",
   "execution_count": 9,
   "metadata": {},
   "outputs": [],
   "source": [
    "data=np.load(os.path.abspath(path_to_data+'data-002.npy'),allow_pickle=True)\n",
    "Y=np.load(path_to_data+'Y.npy',allow_pickle=True)\n",
    "labels =pd.read_csv(path_to_data+'labels.csv')"
   ]
  },
  {
   "cell_type": "code",
   "execution_count": 10,
   "metadata": {},
   "outputs": [],
   "source": [
    "train_fold=8\n",
    "val_fold=9\n",
    "test_fold=10\n",
    "\n",
    "# 10th fold for testing (9th for now)\n",
    "X_test = data[labels.strat_fold == test_fold]\n",
    "y_test = Y[labels.strat_fold == test_fold]\n",
    "# 9th fold for validation (8th for now)\n",
    "X_val = data[labels.strat_fold == val_fold]\n",
    "y_val = Y[labels.strat_fold == val_fold]\n",
    "# rest for training\n",
    "X_train = data[labels.strat_fold <= train_fold]\n",
    "y_train = Y[labels.strat_fold <= train_fold]"
   ]
  },
  {
   "cell_type": "code",
   "execution_count": 11,
   "metadata": {},
   "outputs": [
    {
     "data": {
      "text/plain": [
       "((17111, 1000, 12), (2156, 1000, 12))"
      ]
     },
     "execution_count": 11,
     "metadata": {},
     "output_type": "execute_result"
    }
   ],
   "source": [
    "X_train.shape ,X_val.shape"
   ]
  },
  {
   "cell_type": "code",
   "execution_count": 12,
   "metadata": {},
   "outputs": [],
   "source": [
    "# Preprocess signal data\n",
    "X_train, X_val, X_test = utils.preprocess_signals(X_train, X_val, X_test,'/content/')\n",
    "n_classes = y_train.shape[1]\n",
    "X_train = np.reshape(X_train,[X_train.shape[0],X_train.shape[2],X_train.shape[1]])\n",
    "X_val = np.reshape(X_val,[X_val.shape[0],X_val.shape[2],X_val.shape[1]])\n",
    "X_test = np.reshape(X_test,[X_test.shape[0],X_test.shape[2],X_test.shape[1]])"
   ]
  },
  {
   "cell_type": "code",
   "execution_count": 13,
   "metadata": {},
   "outputs": [
    {
     "data": {
      "text/plain": [
       "((17111, 12, 1000), (2156, 12, 1000))"
      ]
     },
     "execution_count": 13,
     "metadata": {},
     "output_type": "execute_result"
    }
   ],
   "source": [
    "X_train.shape, X_val.shape"
   ]
  },
  {
   "cell_type": "code",
   "execution_count": 14,
   "metadata": {},
   "outputs": [
    {
     "data": {
      "text/plain": [
       "((17111, 5), (2156, 5))"
      ]
     },
     "execution_count": 14,
     "metadata": {},
     "output_type": "execute_result"
    }
   ],
   "source": [
    "y_train.shape, y_val.shape"
   ]
  },
  {
   "cell_type": "markdown",
   "metadata": {},
   "source": [
    "## Converting data to tsfresh format"
   ]
  },
  {
   "cell_type": "code",
   "execution_count": 15,
   "metadata": {},
   "outputs": [
    {
     "data": {
      "application/vnd.jupyter.widget-view+json": {
       "model_id": "3dbe43f2331c4e2e957ba7de5cc4c0e4",
       "version_major": 2,
       "version_minor": 0
      },
      "text/plain": [
       "HBox(children=(FloatProgress(value=1.0, bar_style='info', max=1.0), HTML(value='')))"
      ]
     },
     "metadata": {},
     "output_type": "display_data"
    },
    {
     "name": "stdout",
     "output_type": "stream",
     "text": [
      "\n"
     ]
    }
   ],
   "source": [
    "list_of_sample_df = []\n",
    "for sample_number, sample in tqdm(enumerate(X_train)):\n",
    "    df = pd.DataFrame(sample).T\n",
    "    df = df.reset_index().rename(columns={\"index\": \"time\"})\n",
    "    df['id'] = sample_number\n",
    "    list_of_sample_df.append(df)\n",
    "fresh_train = pd.concat(list_of_sample_df,axis=0)\n",
    "fresh_train = fresh_train[[\"id\", \"time\", 0, 1, 2, 3, 4, 5, 6, 7, 8, 9, 10, 11]]"
   ]
  },
  {
   "cell_type": "code",
   "execution_count": 16,
   "metadata": {},
   "outputs": [
    {
     "data": {
      "text/html": [
       "<div>\n",
       "<style scoped>\n",
       "    .dataframe tbody tr th:only-of-type {\n",
       "        vertical-align: middle;\n",
       "    }\n",
       "\n",
       "    .dataframe tbody tr th {\n",
       "        vertical-align: top;\n",
       "    }\n",
       "\n",
       "    .dataframe thead th {\n",
       "        text-align: right;\n",
       "    }\n",
       "</style>\n",
       "<table border=\"1\" class=\"dataframe\">\n",
       "  <thead>\n",
       "    <tr style=\"text-align: right;\">\n",
       "      <th></th>\n",
       "      <th>id</th>\n",
       "      <th>time</th>\n",
       "      <th>0</th>\n",
       "      <th>1</th>\n",
       "      <th>2</th>\n",
       "      <th>3</th>\n",
       "      <th>4</th>\n",
       "      <th>5</th>\n",
       "      <th>6</th>\n",
       "      <th>7</th>\n",
       "      <th>8</th>\n",
       "      <th>9</th>\n",
       "      <th>10</th>\n",
       "      <th>11</th>\n",
       "    </tr>\n",
       "  </thead>\n",
       "  <tbody>\n",
       "    <tr>\n",
       "      <th>0</th>\n",
       "      <td>0</td>\n",
       "      <td>0</td>\n",
       "      <td>-0.506445</td>\n",
       "      <td>-0.442161</td>\n",
       "      <td>0.110678</td>\n",
       "      <td>-0.292166</td>\n",
       "      <td>-0.270738</td>\n",
       "      <td>0.277815</td>\n",
       "      <td>-0.317880</td>\n",
       "      <td>2.004902</td>\n",
       "      <td>0.119249</td>\n",
       "      <td>0.020681</td>\n",
       "      <td>0.050680</td>\n",
       "      <td>-0.099315</td>\n",
       "    </tr>\n",
       "    <tr>\n",
       "      <th>1</th>\n",
       "      <td>0</td>\n",
       "      <td>1</td>\n",
       "      <td>-0.232168</td>\n",
       "      <td>-0.112172</td>\n",
       "      <td>0.003538</td>\n",
       "      <td>-0.056460</td>\n",
       "      <td>0.316385</td>\n",
       "      <td>0.187818</td>\n",
       "      <td>-0.249311</td>\n",
       "      <td>-0.000747</td>\n",
       "      <td>0.114963</td>\n",
       "      <td>-0.275024</td>\n",
       "      <td>-0.073602</td>\n",
       "      <td>-0.133600</td>\n",
       "    </tr>\n",
       "    <tr>\n",
       "      <th>2</th>\n",
       "      <td>0</td>\n",
       "      <td>2</td>\n",
       "      <td>0.277815</td>\n",
       "      <td>-0.103601</td>\n",
       "      <td>-0.125029</td>\n",
       "      <td>0.243531</td>\n",
       "      <td>0.106392</td>\n",
       "      <td>0.179247</td>\n",
       "      <td>0.072108</td>\n",
       "      <td>-1.749262</td>\n",
       "      <td>0.080679</td>\n",
       "      <td>-0.292166</td>\n",
       "      <td>-0.013604</td>\n",
       "      <td>-0.116458</td>\n",
       "    </tr>\n",
       "    <tr>\n",
       "      <th>3</th>\n",
       "      <td>0</td>\n",
       "      <td>3</td>\n",
       "      <td>0.372098</td>\n",
       "      <td>-0.000747</td>\n",
       "      <td>0.050680</td>\n",
       "      <td>0.183533</td>\n",
       "      <td>0.342099</td>\n",
       "      <td>0.132106</td>\n",
       "      <td>0.290672</td>\n",
       "      <td>-1.509270</td>\n",
       "      <td>-0.335022</td>\n",
       "      <td>0.136391</td>\n",
       "      <td>-0.095030</td>\n",
       "      <td>0.153534</td>\n",
       "    </tr>\n",
       "    <tr>\n",
       "      <th>4</th>\n",
       "      <td>0</td>\n",
       "      <td>4</td>\n",
       "      <td>-0.386449</td>\n",
       "      <td>-0.129314</td>\n",
       "      <td>-0.309309</td>\n",
       "      <td>-0.262167</td>\n",
       "      <td>0.273530</td>\n",
       "      <td>0.123535</td>\n",
       "      <td>-0.193598</td>\n",
       "      <td>0.667803</td>\n",
       "      <td>0.509236</td>\n",
       "      <td>0.162105</td>\n",
       "      <td>-0.035032</td>\n",
       "      <td>0.226388</td>\n",
       "    </tr>\n",
       "  </tbody>\n",
       "</table>\n",
       "</div>"
      ],
      "text/plain": [
       "   id  time         0         1         2         3         4         5  \\\n",
       "0   0     0 -0.506445 -0.442161  0.110678 -0.292166 -0.270738  0.277815   \n",
       "1   0     1 -0.232168 -0.112172  0.003538 -0.056460  0.316385  0.187818   \n",
       "2   0     2  0.277815 -0.103601 -0.125029  0.243531  0.106392  0.179247   \n",
       "3   0     3  0.372098 -0.000747  0.050680  0.183533  0.342099  0.132106   \n",
       "4   0     4 -0.386449 -0.129314 -0.309309 -0.262167  0.273530  0.123535   \n",
       "\n",
       "          6         7         8         9        10        11  \n",
       "0 -0.317880  2.004902  0.119249  0.020681  0.050680 -0.099315  \n",
       "1 -0.249311 -0.000747  0.114963 -0.275024 -0.073602 -0.133600  \n",
       "2  0.072108 -1.749262  0.080679 -0.292166 -0.013604 -0.116458  \n",
       "3  0.290672 -1.509270 -0.335022  0.136391 -0.095030  0.153534  \n",
       "4 -0.193598  0.667803  0.509236  0.162105 -0.035032  0.226388  "
      ]
     },
     "execution_count": 16,
     "metadata": {},
     "output_type": "execute_result"
    }
   ],
   "source": [
    "fresh_train.head()"
   ]
  },
  {
   "cell_type": "code",
   "execution_count": 17,
   "metadata": {},
   "outputs": [
    {
     "data": {
      "text/plain": [
       "(17111000, 14)"
      ]
     },
     "execution_count": 17,
     "metadata": {},
     "output_type": "execute_result"
    }
   ],
   "source": [
    "fresh_train.shape"
   ]
  },
  {
   "cell_type": "markdown",
   "metadata": {},
   "source": [
    "### Multilabel y to just multiclass y"
   ]
  },
  {
   "cell_type": "markdown",
   "metadata": {},
   "source": [
    "percorre todos os labels, transforma em string"
   ]
  },
  {
   "cell_type": "code",
   "execution_count": 18,
   "metadata": {},
   "outputs": [],
   "source": [
    "y_train_tsfresh = pd.DataFrame(y_train).astype(str)"
   ]
  },
  {
   "cell_type": "markdown",
   "metadata": {},
   "source": [
    "e converte binario pra inteiro, python tem uma funcao de conversao, \"0,0,0,0,0\" vai vira 0 no caso"
   ]
  },
  {
   "cell_type": "markdown",
   "metadata": {},
   "source": [
    "int('11111111', 2),\n",
    ", 2 é base 2\n",
    "'111111' é o numero bnario, \n",
    "entende?"
   ]
  },
  {
   "cell_type": "code",
   "execution_count": 19,
   "metadata": {},
   "outputs": [],
   "source": [
    "def multilabel_to_int(line):\n",
    "    line = ''.join(line)\n",
    "    return int(line, 2)\n",
    "\n",
    "y_train_tsfresh = y_train_tsfresh.apply(multilabel_to_int,axis=1)"
   ]
  },
  {
   "cell_type": "code",
   "execution_count": 20,
   "metadata": {},
   "outputs": [
    {
     "data": {
      "text/plain": [
       "(17111,)"
      ]
     },
     "execution_count": 20,
     "metadata": {},
     "output_type": "execute_result"
    }
   ],
   "source": [
    "y_train_tsfresh.shape"
   ]
  },
  {
   "cell_type": "markdown",
   "metadata": {},
   "source": [
    "### The robot example"
   ]
  },
  {
   "cell_type": "raw",
   "metadata": {},
   "source": [
    "from tsfresh.examples import robot_execution_failures\n",
    "\n",
    "robot_execution_failures.download_robot_execution_failures()\n",
    "df, y = robot_execution_failures.load_robot_execution_failures()\n",
    "df.head()"
   ]
  },
  {
   "cell_type": "raw",
   "metadata": {
    "scrolled": true
   },
   "source": [
    "df['id'].value_counts()"
   ]
  },
  {
   "cell_type": "raw",
   "metadata": {},
   "source": [
    "df.shape"
   ]
  },
  {
   "cell_type": "markdown",
   "metadata": {},
   "source": [
    "## Extrating features"
   ]
  },
  {
   "cell_type": "code",
   "execution_count": 21,
   "metadata": {},
   "outputs": [
    {
     "name": "stdout",
     "output_type": "stream",
     "text": [
      "Lines per it:  500000\n"
     ]
    }
   ],
   "source": [
    "ids_per_iteration = 500\n",
    "lines_per_iteration = ids_per_iteration*1000\n",
    "print('Lines per it: ',lines_per_iteration)"
   ]
  },
  {
   "cell_type": "raw",
   "metadata": {},
   "source": [
    "n_loops = int(np.ceil(len(fresh_train)/lines_per_iteration))\n",
    "extraction_settings = ComprehensiveFCParameters()\n",
    "for i in tqdm(range(n_loops)):\n",
    "    index_start = (lines_per_iteration)*i\n",
    "    index_end = (lines_per_iteration)*(i+1)\n",
    "    if index_end > len(fresh_train):\n",
    "        index_end = len(fresh_train)\n",
    "    X = extract_features(fresh_train[index_start:index_end], column_id='id', column_sort='time',\n",
    "         default_fc_parameters=extraction_settings,\n",
    "         # we impute = remove all NaN features automatically\n",
    "         impute_function=impute)\n",
    "    \n",
    "    with open(f'tsfresh_pickles/tsfresh_comprehensive_features_{i}_of_{n_loops}.pickle', 'wb') as handle:\n",
    "        pickle.dump(X, handle, protocol=pickle.HIGHEST_PROTOCOL)\n",
    "\n"
   ]
  },
  {
   "cell_type": "markdown",
   "metadata": {},
   "source": [
    "## Loading extracted features"
   ]
  },
  {
   "cell_type": "code",
   "execution_count": 22,
   "metadata": {},
   "outputs": [
    {
     "data": {
      "application/vnd.jupyter.widget-view+json": {
       "model_id": "3a55e0b0b56446ea889a10408807f858",
       "version_major": 2,
       "version_minor": 0
      },
      "text/plain": [
       "HBox(children=(FloatProgress(value=0.0, max=35.0), HTML(value='')))"
      ]
     },
     "metadata": {},
     "output_type": "display_data"
    },
    {
     "name": "stdout",
     "output_type": "stream",
     "text": [
      "\n"
     ]
    }
   ],
   "source": [
    "n_loops = int(np.ceil(len(fresh_train)/lines_per_iteration))\n",
    "X_list = []\n",
    "for i in tqdm(range(n_loops)):\n",
    "    with open(f'tsfresh_pickles/tsfresh_comprehensive_features_{i}_of_{n_loops}.pickle', 'rb') as handle:\n",
    "        X_list.append(pickle.load(handle))"
   ]
  },
  {
   "cell_type": "code",
   "execution_count": 23,
   "metadata": {},
   "outputs": [
    {
     "data": {
      "text/plain": [
       "35"
      ]
     },
     "execution_count": 23,
     "metadata": {},
     "output_type": "execute_result"
    }
   ],
   "source": [
    "len(X_list)"
   ]
  },
  {
   "cell_type": "code",
   "execution_count": 24,
   "metadata": {},
   "outputs": [],
   "source": [
    "X = pd.concat(X_list)"
   ]
  },
  {
   "cell_type": "code",
   "execution_count": 25,
   "metadata": {},
   "outputs": [
    {
     "data": {
      "text/plain": [
       "(17111, 9156)"
      ]
     },
     "execution_count": 25,
     "metadata": {},
     "output_type": "execute_result"
    }
   ],
   "source": [
    "X.shape"
   ]
  },
  {
   "cell_type": "markdown",
   "metadata": {},
   "source": [
    "## Feature selection"
   ]
  },
  {
   "cell_type": "raw",
   "metadata": {},
   "source": [
    "X_filtered = select_features(X,  y_train_tsfresh)"
   ]
  },
  {
   "cell_type": "markdown",
   "metadata": {},
   "source": [
    "Save the selected features"
   ]
  },
  {
   "cell_type": "raw",
   "metadata": {},
   "source": [
    "with open('tsfresh_comprehensive_selected_features.pickle', 'wb') as handle:\n",
    "    pickle.dump(X_filtered, handle, protocol=pickle.HIGHEST_PROTOCOL)"
   ]
  },
  {
   "cell_type": "code",
   "execution_count": 26,
   "metadata": {},
   "outputs": [],
   "source": [
    "with open('tsfresh_comprehensive_selected_features.pickle', 'rb') as handle:\n",
    "    X_filtered = pickle.load(handle)"
   ]
  },
  {
   "cell_type": "code",
   "execution_count": 27,
   "metadata": {},
   "outputs": [
    {
     "data": {
      "text/plain": [
       "(17111, 4884)"
      ]
     },
     "execution_count": 27,
     "metadata": {},
     "output_type": "execute_result"
    }
   ],
   "source": [
    "X_filtered.shape"
   ]
  },
  {
   "cell_type": "markdown",
   "metadata": {},
   "source": [
    "## Validating model"
   ]
  },
  {
   "cell_type": "markdown",
   "metadata": {},
   "source": [
    "Converting to tsfresh format"
   ]
  },
  {
   "cell_type": "code",
   "execution_count": 28,
   "metadata": {},
   "outputs": [
    {
     "data": {
      "application/vnd.jupyter.widget-view+json": {
       "model_id": "f167f791629f4845b41c974aa519ae7b",
       "version_major": 2,
       "version_minor": 0
      },
      "text/plain": [
       "HBox(children=(FloatProgress(value=1.0, bar_style='info', max=1.0), HTML(value='')))"
      ]
     },
     "metadata": {},
     "output_type": "display_data"
    },
    {
     "name": "stdout",
     "output_type": "stream",
     "text": [
      "\n"
     ]
    }
   ],
   "source": [
    "list_of_sample_df = []\n",
    "for sample_number, sample in tqdm(enumerate(X_val)):\n",
    "    df = pd.DataFrame(sample).T\n",
    "    df = df.reset_index().rename(columns={\"index\": \"time\"})\n",
    "    df['id'] = sample_number\n",
    "    list_of_sample_df.append(df)\n",
    "fresh_val = pd.concat(list_of_sample_df,axis=0)\n",
    "fresh_val = fresh_val[[\"id\", \"time\", 0, 1, 2, 3, 4, 5, 6, 7, 8, 9, 10, 11]]"
   ]
  },
  {
   "cell_type": "code",
   "execution_count": 29,
   "metadata": {},
   "outputs": [
    {
     "data": {
      "text/plain": [
       "(2156000, 14)"
      ]
     },
     "execution_count": 29,
     "metadata": {},
     "output_type": "execute_result"
    }
   ],
   "source": [
    "fresh_val.shape"
   ]
  },
  {
   "cell_type": "code",
   "execution_count": 30,
   "metadata": {},
   "outputs": [],
   "source": [
    "def extract_parts(df, lines_per_iteration,tag='train'):\n",
    "    n_loops = int(np.ceil(len(df)/lines_per_iteration))\n",
    "    extraction_settings = ComprehensiveFCParameters()\n",
    "    for i in tqdm(range(n_loops)):\n",
    "        index_start = (lines_per_iteration)*i\n",
    "        index_end = (lines_per_iteration)*(i+1)\n",
    "        if index_end > len(df):\n",
    "            index_end = len(df)\n",
    "        X = extract_features(df[index_start:index_end], column_id='id', column_sort='time',\n",
    "             default_fc_parameters=extraction_settings,\n",
    "             # we impute = remove all NaN features automatically\n",
    "             impute_function=impute)\n",
    "\n",
    "        with open(f'tsfresh_pickles/tsfresh_comprehensive_{tag}_features_{i}_of_{n_loops}.pickle', 'wb') as handle:\n",
    "            pickle.dump(X, handle, protocol=pickle.HIGHEST_PROTOCOL)"
   ]
  },
  {
   "cell_type": "raw",
   "metadata": {},
   "source": [
    "extract_parts(fresh_val, lines_per_iteration,tag='val')"
   ]
  },
  {
   "cell_type": "code",
   "execution_count": 31,
   "metadata": {},
   "outputs": [],
   "source": [
    "def load_tsfresh_features(df, lines_per_iteration, tag='train'):\n",
    "    n_loops = int(np.ceil(len(df)/lines_per_iteration))\n",
    "    X_list = []\n",
    "    for i in tqdm(range(n_loops)):\n",
    "        with open(f'tsfresh_pickles/tsfresh_comprehensive_{tag}_features_{i}_of_{n_loops}.pickle', 'rb') as handle:\n",
    "            X_list.append(pickle.load(handle))\n",
    "    return pd.concat(X_list)"
   ]
  },
  {
   "cell_type": "code",
   "execution_count": 32,
   "metadata": {},
   "outputs": [
    {
     "data": {
      "application/vnd.jupyter.widget-view+json": {
       "model_id": "46b95a691b5b4ced9c20615623dc7127",
       "version_major": 2,
       "version_minor": 0
      },
      "text/plain": [
       "HBox(children=(FloatProgress(value=0.0, max=5.0), HTML(value='')))"
      ]
     },
     "metadata": {},
     "output_type": "display_data"
    },
    {
     "name": "stdout",
     "output_type": "stream",
     "text": [
      "\n"
     ]
    },
    {
     "data": {
      "text/plain": [
       "(2156, 9156)"
      ]
     },
     "execution_count": 32,
     "metadata": {},
     "output_type": "execute_result"
    }
   ],
   "source": [
    "X_val = load_tsfresh_features(fresh_val, lines_per_iteration ,tag='val')\n",
    "X_val.shape"
   ]
  },
  {
   "cell_type": "code",
   "execution_count": 33,
   "metadata": {},
   "outputs": [],
   "source": [
    "X_val_filtered = X_val[X_filtered.columns]"
   ]
  },
  {
   "cell_type": "code",
   "execution_count": 34,
   "metadata": {},
   "outputs": [
    {
     "data": {
      "text/plain": [
       "(2156, 5)"
      ]
     },
     "execution_count": 34,
     "metadata": {},
     "output_type": "execute_result"
    }
   ],
   "source": [
    "y_val.shape"
   ]
  },
  {
   "cell_type": "markdown",
   "metadata": {},
   "source": [
    "## Train and evaluate classifier"
   ]
  },
  {
   "cell_type": "code",
   "execution_count": 36,
   "metadata": {},
   "outputs": [
    {
     "name": "stdout",
     "output_type": "stream",
     "text": [
      "              precision    recall  f1-score   support\n",
      "\n",
      "           0       0.40      0.43      0.42       497\n",
      "           1       0.39      0.38      0.39       271\n",
      "           2       0.40      0.38      0.39       544\n",
      "           3       0.65      0.65      0.65       957\n",
      "           4       0.46      0.49      0.47       534\n",
      "\n",
      "   micro avg       0.50      0.50      0.50      2803\n",
      "   macro avg       0.46      0.47      0.46      2803\n",
      "weighted avg       0.50      0.50      0.50      2803\n",
      " samples avg       0.52      0.52      0.50      2803\n",
      "\n"
     ]
    }
   ],
   "source": [
    "classifier_full = DecisionTreeClassifier()\n",
    "classifier_full.fit(X, y_train)\n",
    "preds_full = classifier_full.predict(X_val)\n",
    "print(classification_report(y_val, preds_full))"
   ]
  },
  {
   "cell_type": "code",
   "execution_count": 39,
   "metadata": {},
   "outputs": [
    {
     "name": "stdout",
     "output_type": "stream",
     "text": [
      "              precision    recall  f1-score   support\n",
      "\n",
      "           0       0.44      0.46      0.45       497\n",
      "           1       0.34      0.32      0.33       271\n",
      "           2       0.42      0.44      0.43       544\n",
      "           3       0.66      0.65      0.65       957\n",
      "           4       0.45      0.45      0.45       534\n",
      "\n",
      "   micro avg       0.50      0.50      0.50      2803\n",
      "   macro avg       0.46      0.46      0.46      2803\n",
      "weighted avg       0.50      0.50      0.50      2803\n",
      " samples avg       0.52      0.52      0.50      2803\n",
      "\n"
     ]
    }
   ],
   "source": [
    "classifier_filtered = DecisionTreeClassifier()\n",
    "classifier_filtered.fit(X_filtered, y_train)\n",
    "preds_filtered = classifier_filtered.predict(X_val_filtered)\n",
    "print(classification_report(y_val, preds_filtered))"
   ]
  },
  {
   "cell_type": "markdown",
   "metadata": {},
   "source": [
    "## Train and evaluate multilabel classifier"
   ]
  },
  {
   "cell_type": "code",
   "execution_count": 35,
   "metadata": {},
   "outputs": [
    {
     "data": {
      "text/plain": [
       "((17111, 9156), (17111, 5))"
      ]
     },
     "execution_count": 35,
     "metadata": {},
     "output_type": "execute_result"
    }
   ],
   "source": [
    "X.shape, y_train.shape"
   ]
  },
  {
   "cell_type": "code",
   "execution_count": 54,
   "metadata": {},
   "outputs": [
    {
     "name": "stdout",
     "output_type": "stream",
     "text": [
      "              precision    recall  f1-score   support\n",
      "\n",
      "           0       0.84      0.26      0.40       497\n",
      "           1       0.77      0.20      0.32       271\n",
      "           2       0.81      0.22      0.35       544\n",
      "           3       0.78      0.73      0.75       957\n",
      "           4       0.79      0.20      0.32       534\n",
      "\n",
      "   micro avg       0.79      0.39      0.53      2803\n",
      "   macro avg       0.80      0.32      0.43      2803\n",
      "weighted avg       0.80      0.39      0.49      2803\n",
      " samples avg       0.47      0.43      0.44      2803\n",
      "\n"
     ]
    }
   ],
   "source": [
    "classifier_forest_full = RandomForestClassifier()\n",
    "classifier_forest_full.fit(X, y_train)\n",
    "preds_forest_full = classifier_forest_full.predict(X_val)\n",
    "print(classification_report(y_val, preds_forest_full))"
   ]
  },
  {
   "cell_type": "code",
   "execution_count": 37,
   "metadata": {
    "scrolled": true
   },
   "outputs": [
    {
     "data": {
      "text/plain": [
       "((17111, 4884), (17111, 5))"
      ]
     },
     "execution_count": 37,
     "metadata": {},
     "output_type": "execute_result"
    }
   ],
   "source": [
    "X_filtered.shape, y_train.shape"
   ]
  },
  {
   "cell_type": "code",
   "execution_count": 51,
   "metadata": {},
   "outputs": [
    {
     "name": "stdout",
     "output_type": "stream",
     "text": [
      "              precision    recall  f1-score   support\n",
      "\n",
      "           0       0.83      0.29      0.43       497\n",
      "           1       0.79      0.23      0.36       271\n",
      "           2       0.81      0.25      0.38       544\n",
      "           3       0.79      0.73      0.76       957\n",
      "           4       0.76      0.24      0.37       534\n",
      "\n",
      "   micro avg       0.80      0.42      0.55      2803\n",
      "   macro avg       0.80      0.35      0.46      2803\n",
      "weighted avg       0.80      0.42      0.51      2803\n",
      " samples avg       0.49      0.45      0.46      2803\n",
      "\n"
     ]
    }
   ],
   "source": [
    "classifier_forest = RandomForestClassifier()\n",
    "classifier_forest.fit(X_filtered, y_train)\n",
    "preds_forest = classifier_forest.predict(X_val_filtered)\n",
    "print(classification_report(y_val, preds_forest))"
   ]
  },
  {
   "cell_type": "markdown",
   "metadata": {},
   "source": [
    "## Evaluating"
   ]
  },
  {
   "cell_type": "code",
   "execution_count": 45,
   "metadata": {},
   "outputs": [],
   "source": [
    "from utils.utils import evaluate_experiment"
   ]
  },
  {
   "cell_type": "code",
   "execution_count": 47,
   "metadata": {},
   "outputs": [
    {
     "name": "stdout",
     "output_type": "stream",
     "text": [
      "Full: \n",
      "    macro_auc      Fmax\n",
      "0   0.639361  0.515519\n"
     ]
    }
   ],
   "source": [
    "tr_df_point_full = evaluate_experiment(np.array(y_val,dtype=np.float32), np.array(preds_full,dtype=np.float32))\n",
    "print('Full: \\n',tr_df_point_full)"
   ]
  },
  {
   "cell_type": "code",
   "execution_count": 48,
   "metadata": {},
   "outputs": [
    {
     "name": "stdout",
     "output_type": "stream",
     "text": [
      "Filtered: \n",
      "    macro_auc      Fmax\n",
      "0   0.639263  0.520243\n"
     ]
    }
   ],
   "source": [
    "tr_df_point_filter = evaluate_experiment(np.array(y_val,dtype=np.float32), np.array(preds_filtered,dtype=np.float32))\n",
    "print('Filtered: \\n',tr_df_point_filter)"
   ]
  },
  {
   "cell_type": "code",
   "execution_count": 55,
   "metadata": {},
   "outputs": [
    {
     "name": "stdout",
     "output_type": "stream",
     "text": [
      "Filtered Forest: \n",
      "    macro_auc      Fmax\n",
      "0   0.639165  0.561163\n"
     ]
    }
   ],
   "source": [
    "tr_df_point_forest = evaluate_experiment(np.array(y_val,dtype=np.float32), np.array(preds_forest_full,dtype=np.float32))\n",
    "print('Filtered Forest: \\n',tr_df_point_forest)"
   ]
  },
  {
   "cell_type": "code",
   "execution_count": 52,
   "metadata": {},
   "outputs": [
    {
     "name": "stdout",
     "output_type": "stream",
     "text": [
      "Filtered Forest: \n",
      "    macro_auc      Fmax\n",
      "0   0.651533  0.578119\n"
     ]
    }
   ],
   "source": [
    "tr_df_point_forest = evaluate_experiment(np.array(y_val,dtype=np.float32), np.array(preds_forest,dtype=np.float32))\n",
    "print('Filtered Forest: \\n',tr_df_point_forest)"
   ]
  }
 ],
 "metadata": {
  "kernelspec": {
   "display_name": "Python 3",
   "language": "python",
   "name": "python3"
  },
  "language_info": {
   "codemirror_mode": {
    "name": "ipython",
    "version": 3
   },
   "file_extension": ".py",
   "mimetype": "text/x-python",
   "name": "python",
   "nbconvert_exporter": "python",
   "pygments_lexer": "ipython3",
   "version": "3.7.7"
  }
 },
 "nbformat": 4,
 "nbformat_minor": 4
}
