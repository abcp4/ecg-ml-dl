{
 "cells": [
  {
   "cell_type": "code",
   "execution_count": 1,
   "metadata": {},
   "outputs": [],
   "source": [
    "# default_exp models.ResNet"
   ]
  },
  {
   "cell_type": "markdown",
   "metadata": {},
   "source": [
    "# ResNet\n",
    "\n",
    "> This is an unofficial PyTorch implementation by Ignacio Oguiza - oguiza@gmail.com based on:\n",
    "* Wang, Z., Yan, W., & Oates, T. (2017, May). Time series classification from scratch with deep neural networks: A strong baseline. In 2017 international joint conference on neural networks (IJCNN) (pp. 1578-1585). IEEE.\n",
    "* Fawaz, H. I., Forestier, G., Weber, J., Idoumghar, L., & Muller, P. A. (2019). Deep learning for time series classification: a review. Data Mining and Knowledge Discovery, 33(4), 917-963.\n",
    "* Official ResNet TensorFlow implementation: https://github.com/hfawaz/dl-4-tsc\n",
    "* 👀 kernel filter size 8 has been replaced by 7 (I believe it's a bug since even kernels are not commonly used in practice)"
   ]
  },
  {
   "cell_type": "code",
   "execution_count": 2,
   "metadata": {},
   "outputs": [],
   "source": [
    "#export\n",
    "from tsai.imports import *\n",
    "from tsai.models.layers import *"
   ]
  },
  {
   "cell_type": "code",
   "execution_count": 3,
   "metadata": {},
   "outputs": [],
   "source": [
    "#export\n",
    "class ResBlock(Module):\n",
    "    def __init__(self, ni, nf, ks=[7, 5, 3]):\n",
    "        self.conv1 = Conv1d(ni, nf, ks[0], padding='same', act_fn='relu')\n",
    "        self.conv2 = Conv1d(nf, nf, ks[1], padding='same', act_fn='relu')\n",
    "        self.conv3 = Conv1d(nf, nf, ks[2], padding='same', act_fn='relu')\n",
    "\n",
    "        # expand channels for the sum if necessary\n",
    "        self.shortcut = noop if ni == nf else Conv1d(ni, nf, ks=1, act_fn=False)\n",
    "        self.act_fn = nn.ReLU()\n",
    "\n",
    "    def forward(self, x):\n",
    "        res = x\n",
    "        x = self.conv1(x)\n",
    "        x = self.conv2(x)\n",
    "        x = self.conv3(x)\n",
    "        sc = self.shortcut(res)\n",
    "        x += sc\n",
    "        x = self.act_fn(x)\n",
    "        return x\n",
    "    \n",
    "class ResNet(Module):\n",
    "    def __init__(self,c_in, c_out):\n",
    "        nf = 64\n",
    "        self.block1 = ResBlock(c_in, nf, ks=[7, 5, 3])\n",
    "        self.block2 = ResBlock(nf, nf * 2, ks=[7, 5, 3])\n",
    "        self.block3 = ResBlock(nf * 2, nf * 2, ks=[7, 5, 3])\n",
    "        self.gap = nn.AdaptiveAvgPool1d(1)\n",
    "        self.squeeze = Squeeze(-1)\n",
    "        self.fc = nn.Linear(nf * 2, c_out)\n",
    "\n",
    "    def forward(self, x):\n",
    "        x = self.block1(x)\n",
    "        x = self.block2(x)\n",
    "        x = self.block3(x)\n",
    "        x = self.squeeze(self.gap(x))\n",
    "        return self.fc(x)"
   ]
  },
  {
   "cell_type": "code",
   "execution_count": 7,
   "metadata": {},
   "outputs": [],
   "source": [
    "xb = torch.rand(16, 3, 128)\n",
    "test_eq(ResNet(3,2)(xb).shape, [xb.shape[0], 2])\n",
    "#ResNet(3,2)"
   ]
  },
  {
   "cell_type": "code",
   "execution_count": 15,
   "metadata": {},
   "outputs": [
    {
     "data": {
      "text/plain": [
       "tensor([[0.9865, 0.5548, 0.7389, 0.3476, 0.9911, 0.0014, 0.4159, 0.8363, 0.0011,\n",
       "         0.6296, 0.6042, 0.4246, 0.5059, 0.8719, 0.2354, 0.3774, 0.5241, 0.8139,\n",
       "         0.1761, 0.9921, 0.2871, 0.7461, 0.5299, 0.2163, 0.2760, 0.5021, 0.0811,\n",
       "         0.2028, 0.1220, 0.9873, 0.4096, 0.8561, 0.6109, 0.4858, 0.1473, 0.5019,\n",
       "         0.7035, 0.8380, 0.1531, 0.4870, 0.1339, 0.5849, 0.1731, 0.5477, 0.1626,\n",
       "         0.0249, 0.4211, 0.6531, 0.8525, 0.6950, 0.3249, 0.3112, 0.6661, 0.1858,\n",
       "         0.9469, 0.3913, 0.0716, 0.4491, 0.8630, 0.3791, 0.6624, 0.6937, 0.6499,\n",
       "         0.3963, 0.1686, 0.8500, 0.8669, 0.5998, 0.0078, 0.6559, 0.8382, 0.7067,\n",
       "         0.7775, 0.0347, 0.6581, 0.2599, 0.3039, 0.1732, 0.5058, 0.9368, 0.6980,\n",
       "         0.8964, 0.7503, 0.6020, 0.0961, 0.8276, 0.8767, 0.0688, 0.9516, 0.2784,\n",
       "         0.5986, 0.7842, 0.0032, 0.8245, 0.5297, 0.9683, 0.3811, 0.6749, 0.0578,\n",
       "         0.5384, 0.7529, 0.7207, 0.8251, 0.6882, 0.6980, 0.4773, 0.1411, 0.9799,\n",
       "         0.7333, 0.2786, 0.2288, 0.9793, 0.0986, 0.1214, 0.6311, 0.4574, 0.0057,\n",
       "         0.0454, 0.1792, 0.8043, 0.2796, 0.1146, 0.2277, 0.3963, 0.1588, 0.6307,\n",
       "         0.1498, 0.8757],\n",
       "        [0.1488, 0.5303, 0.3816, 0.7077, 0.0258, 0.1438, 0.8429, 0.9962, 0.7653,\n",
       "         0.6658, 0.9170, 0.6101, 0.6844, 0.0333, 0.9561, 0.7241, 0.6569, 0.0842,\n",
       "         0.5067, 0.0260, 0.3755, 0.3296, 0.9442, 0.8725, 0.7185, 0.3319, 0.0976,\n",
       "         0.2641, 0.5585, 0.4533, 0.2479, 0.7248, 0.7408, 0.8875, 0.6100, 0.3183,\n",
       "         0.8010, 0.8782, 0.6257, 0.0161, 0.6483, 0.8545, 0.9177, 0.1739, 0.6852,\n",
       "         0.3353, 0.9238, 0.6422, 0.9317, 0.9997, 0.0740, 0.1882, 0.2994, 0.7933,\n",
       "         0.2603, 0.0058, 0.0086, 0.8520, 0.5731, 0.6282, 0.1652, 0.1204, 0.9421,\n",
       "         0.6907, 0.7327, 0.3653, 0.2828, 0.3617, 0.3109, 0.6848, 0.5739, 0.7781,\n",
       "         0.4421, 0.7993, 0.7057, 0.3240, 0.2986, 0.9750, 0.0221, 0.0235, 0.4470,\n",
       "         0.6692, 0.7853, 0.4556, 0.0919, 0.7804, 0.4933, 0.3020, 0.9649, 0.7264,\n",
       "         0.0479, 0.5744, 0.8363, 0.1237, 0.2208, 0.7400, 0.5875, 0.6765, 0.9257,\n",
       "         0.2858, 0.1746, 0.2003, 0.6639, 0.2464, 0.2415, 0.3793, 0.2622, 0.6827,\n",
       "         0.6388, 0.9160, 0.1437, 0.3784, 0.6495, 0.3960, 0.8463, 0.1434, 0.7860,\n",
       "         0.7176, 0.7874, 0.5984, 0.2645, 0.6194, 0.6177, 0.5514, 0.4094, 0.9942,\n",
       "         0.4494, 0.5240],\n",
       "        [0.7407, 0.6189, 0.9387, 0.2154, 0.9127, 0.0617, 0.8525, 0.9232, 0.7933,\n",
       "         0.1237, 0.3710, 0.4522, 0.0134, 0.3990, 0.5598, 0.8024, 0.4928, 0.4601,\n",
       "         0.3681, 0.0998, 0.0561, 0.0377, 0.5865, 0.7798, 0.2878, 0.6202, 0.4821,\n",
       "         0.2220, 0.8272, 0.4526, 0.3448, 0.3847, 0.4024, 0.9396, 0.8497, 0.7476,\n",
       "         0.7531, 0.7930, 0.1030, 0.8086, 0.8551, 0.9242, 0.9534, 0.9357, 0.6685,\n",
       "         0.7585, 0.2439, 0.6717, 0.5261, 0.2614, 0.5024, 0.0110, 0.5501, 0.2006,\n",
       "         0.5936, 0.2865, 0.5601, 0.1843, 0.3280, 0.9032, 0.9345, 0.7496, 0.8319,\n",
       "         0.7735, 0.8774, 0.7355, 0.6411, 0.4090, 0.6266, 0.1441, 0.1304, 0.0582,\n",
       "         0.9214, 0.9878, 0.8769, 0.3227, 0.6978, 0.8814, 0.4499, 0.0254, 0.1846,\n",
       "         0.2530, 0.7527, 0.7476, 0.4576, 0.3168, 0.9686, 0.2848, 0.8640, 0.4380,\n",
       "         0.3868, 0.1699, 0.0030, 0.0717, 0.8363, 0.1896, 0.4969, 0.7880, 0.4753,\n",
       "         0.9617, 0.7021, 0.9347, 0.7768, 0.1213, 0.9138, 0.1201, 0.1823, 0.7224,\n",
       "         0.6981, 0.1553, 0.8322, 0.8648, 0.8901, 0.9045, 0.3124, 0.8984, 0.0167,\n",
       "         0.9438, 0.8917, 0.2276, 0.9929, 0.8527, 0.4735, 0.0761, 0.8557, 0.6266,\n",
       "         0.8891, 0.9957]])"
      ]
     },
     "execution_count": 15,
     "metadata": {},
     "output_type": "execute_result"
    }
   ],
   "source": [
    "xb[0]"
   ]
  },
  {
   "cell_type": "code",
   "execution_count": 16,
   "metadata": {},
   "outputs": [
    {
     "data": {
      "text/plain": [
       "tensor([[ 0.6744,  0.4375,  0.6877, -0.4842,  0.9892],\n",
       "        [ 0.7888,  0.4568,  0.6765, -0.4159,  1.0348],\n",
       "        [ 0.7784,  0.3607,  0.4974, -0.3997,  0.9241],\n",
       "        [ 0.8264,  0.4616,  0.6380, -0.4084,  0.9800],\n",
       "        [ 0.7506,  0.4645,  0.5883, -0.5441,  1.0015],\n",
       "        [ 0.7124,  0.3300,  0.5315, -0.3056,  0.9942],\n",
       "        [ 0.6774,  0.3914,  0.6092, -0.3552,  0.9568],\n",
       "        [ 0.7407,  0.4239,  0.5703, -0.4153,  0.9262],\n",
       "        [ 0.8377,  0.4500,  0.7103, -0.3953,  1.0411],\n",
       "        [ 0.8016,  0.4299,  0.7018, -0.4330,  1.0033],\n",
       "        [ 0.7553,  0.4850,  0.6103, -0.4496,  0.9860],\n",
       "        [ 0.7719,  0.3752,  0.6187, -0.3252,  0.9986],\n",
       "        [ 0.6993,  0.5414,  0.6271, -0.3626,  1.0545],\n",
       "        [ 0.6847,  0.4140,  0.7103, -0.4193,  0.9925],\n",
       "        [ 0.7883,  0.4750,  0.5835, -0.4669,  0.9433],\n",
       "        [ 0.7944,  0.5207,  0.6460, -0.4127,  1.0492]],\n",
       "       grad_fn=<AddmmBackward>)"
      ]
     },
     "execution_count": 16,
     "metadata": {},
     "output_type": "execute_result"
    }
   ],
   "source": [
    "ResNet(3,5)(xb)"
   ]
  },
  {
   "cell_type": "code",
   "execution_count": null,
   "metadata": {},
   "outputs": [],
   "source": []
  }
 ],
 "metadata": {
  "kernelspec": {
   "display_name": "Python 3",
   "language": "python",
   "name": "python3"
  },
  "language_info": {
   "codemirror_mode": {
    "name": "ipython",
    "version": 3
   },
   "file_extension": ".py",
   "mimetype": "text/x-python",
   "name": "python",
   "nbconvert_exporter": "python",
   "pygments_lexer": "ipython3",
   "version": "3.7.7"
  }
 },
 "nbformat": 4,
 "nbformat_minor": 2
}
